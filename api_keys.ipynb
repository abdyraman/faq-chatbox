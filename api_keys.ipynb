{
 "cells": [
  {
   "cell_type": "code",
   "execution_count": 1,
   "id": "c6102b6c",
   "metadata": {},
   "outputs": [],
   "source": [
    "P'"
   ]
  },
  {
   "cell_type": "code",
   "execution_count": 2,
   "id": "41b4812b",
   "metadata": {},
   "outputs": [],
   "source": [
    "PINECONE_ENVIRONMENT=''"
   ]
  },
  {
   "cell_type": "code",
   "execution_count": null,
   "id": "c6fd5aa7",
   "metadata": {},
   "outputs": [],
   "source": []
  }
 ],
 "metadata": {
  "kernelspec": {
   "display_name": "myenv",
   "language": "python",
   "name": "myenv"
  },
  "language_info": {
   "codemirror_mode": {
    "name": "ipython",
    "version": 3
   },
   "file_extension": ".py",
   "mimetype": "text/x-python",
   "name": "python",
   "nbconvert_exporter": "python",
   "pygments_lexer": "ipython3",
   "version": "3.11.5"
  }
 },
 "nbformat": 4,
 "nbformat_minor": 5
}
