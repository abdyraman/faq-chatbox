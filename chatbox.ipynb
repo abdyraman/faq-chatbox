{
 "cells": [
  {
   "cell_type": "code",
   "execution_count": 58,
   "id": "e5610266",
   "metadata": {},
   "outputs": [],
   "source": [
    "# Import dependencies\n",
    "from pymongo import MongoClient\n",
    "from pprint import pprint"
   ]
  },
  {
   "cell_type": "code",
   "execution_count": 59,
   "id": "04a824b5",
   "metadata": {},
   "outputs": [],
   "source": [
    "from transformers import DistilBertTokenizer, DistilBertForSequenceClassification\n",
    "import torch\n",
    "import torch.nn\n",
    "from torch.utils.data import Dataset\n",
    "from torch.utils.data import DataLoader\n",
    "\n",
    "from transformers import AutoTokenizer\n",
    "\n",
    "tokenizer = AutoTokenizer.from_pretrained(\"bert-base-uncased\")  # Example using BERT\n",
    "\n",
    "\n",
    "import json "
   ]
  },
  {
   "cell_type": "code",
   "execution_count": 60,
   "id": "4cdf817e",
   "metadata": {},
   "outputs": [],
   "source": [
    "# Create an instance of MongoClient\n",
    "mongo = MongoClient(port=27017)"
   ]
  },
  {
   "cell_type": "code",
   "execution_count": 61,
   "id": "4861ac39",
   "metadata": {},
   "outputs": [
    {
     "name": "stdout",
     "output_type": "stream",
     "text": [
      "['FAQ', 'admin', 'config', 'covid_db', 'eye_deseases', 'fruits_db', 'local', 'metrolinx', 'petsitly_marketing']\n"
     ]
    }
   ],
   "source": [
    "# confirm that the \"petsitly_marketing\" database is in MongoDB\n",
    "print(mongo.list_database_names())"
   ]
  },
  {
   "cell_type": "code",
   "execution_count": 62,
   "id": "f8fb3673",
   "metadata": {},
   "outputs": [],
   "source": [
    "# assign the database to a variable name\n",
    "db = mongo['FAQ']"
   ]
  },
  {
   "cell_type": "code",
   "execution_count": 63,
   "id": "7dcf1ed9",
   "metadata": {},
   "outputs": [
    {
     "name": "stdout",
     "output_type": "stream",
     "text": [
      "['questions']\n"
     ]
    }
   ],
   "source": [
    "# review the collections in our new database\n",
    "print(db.list_collection_names())"
   ]
  },
  {
   "cell_type": "code",
   "execution_count": 64,
   "id": "f76ce595",
   "metadata": {},
   "outputs": [],
   "source": [
    "# Access the collection\n",
    "questions_collection = db['questions']\n",
    "\n",
    "# Find all documents in the collection\n",
    "documents = questions_collection.find()\n",
    "\n",
    "# Initialize lists to store texts and labels\n",
    "texts = []\n",
    "labels = []\n",
    "answers=[]\n",
    "\n",
    "\n",
    "# Iterate through each document\n",
    "for document in documents:\n",
    "    # Access the 'questions' array\n",
    "    questions_array = document['questions']\n",
    "    \n",
    "    # Iterate through each question in the array\n",
    "    for question_info in questions_array:\n",
    "        # Access the 'question' field\n",
    "        question_text = question_info['question']\n",
    "        answers_text = question_info['answer']\n",
    "       \n",
    "        # Append the question to the 'texts' list if it's not already there\n",
    "        if question_text not in texts:\n",
    "            texts.append(question_text)\n",
    "            answers.append(answers_text)\n",
    "            # Append the corresponding label (index) to the 'labels' list\n",
    "            labels.append(len(texts) - 1)"
   ]
  },
  {
   "cell_type": "code",
   "execution_count": 94,
   "id": "d588a781",
   "metadata": {},
   "outputs": [
    {
     "name": "stdout",
     "output_type": "stream",
     "text": [
      "Label: 10, Text: What are the hospital's operating hours for inquiries and appointments?, Answers:The specific operating hours of the hospital for inquiries and appointments may vary. It is advisable to contact the hospital during their working hours, typically from 9:00 am to 3:00 pm (Monday to Friday) and 9:00 am to 1:00 pm (Saturday).\n",
      "Label: 12, Text: Is the hospital reachable via public transportation, and are there any landmarks nearby?, Answers:Yes, the hospital is reachable via public transportation such as buses, taxis, and other modes of travel. The hospital's location at 157/F Nilgunj Road, Panihati, Sodepur, Kolkata, can serve as a reference point for reaching the hospital.\n",
      "Label: 14, Text: Can I receive directions to the hospital using GPS or navigation apps?, Answers:Yes, you can use GPS or navigation apps to receive directions to the hospital's address: 157/F Nilgunj Road, Panihati, Sodepur, Kolkata, Pin: 700114, West Bengal.\n",
      "Label: 16, Text: How can I inquire about specific dental services or treatments offered at the hospital?, Answers:To inquire about specific dental services or treatments, you can contact the hospital using the provided phone number or email address. The hospital staff can provide you with information about available services and treatments.\n",
      "Label: 18, Text: Can I schedule an appointment through email, or is it preferable to call?, Answers:You can schedule an appointment through either email (info@gnidsr.ac.in) or by calling the provided phone number. Both options are suitable for making appointments based on your convenience.\n"
     ]
    }
   ],
   "source": [
    "for i in range(10,20,2):  # Print the first 10 labels and corresponding texts\n",
    "    print(f\"Label: {labels[i]}, Text: {texts[i]}, Answers:{answers[i]}\")"
   ]
  },
  {
   "cell_type": "markdown",
   "id": "37426dd4",
   "metadata": {},
   "source": [
    "# PREPROCESSING"
   ]
  },
  {
   "cell_type": "code",
   "execution_count": 66,
   "id": "61862bc7",
   "metadata": {},
   "outputs": [],
   "source": [
    "from transformers import DistilBertTokenizer\n",
    "\n",
    "model_name = 'distilbert-base-uncased'\n",
    "tokenizer = DistilBertTokenizer.from_pretrained(model_name)\n"
   ]
  },
  {
   "cell_type": "code",
   "execution_count": 67,
   "id": "8274da90",
   "metadata": {},
   "outputs": [
    {
     "name": "stdout",
     "output_type": "stream",
     "text": [
      "Requirement already satisfied: torch in /Users/zhibekabdyramanova/anaconda3/lib/python3.11/site-packages (2.1.2)\n",
      "Requirement already satisfied: torchvision in /Users/zhibekabdyramanova/anaconda3/lib/python3.11/site-packages (0.16.2)\n",
      "Requirement already satisfied: torchaudio in /Users/zhibekabdyramanova/anaconda3/lib/python3.11/site-packages (2.1.2)\n",
      "Requirement already satisfied: filelock in /Users/zhibekabdyramanova/anaconda3/lib/python3.11/site-packages (from torch) (3.13.1)\n",
      "Requirement already satisfied: typing-extensions in /Users/zhibekabdyramanova/anaconda3/lib/python3.11/site-packages (from torch) (4.7.1)\n",
      "Requirement already satisfied: sympy in /Users/zhibekabdyramanova/anaconda3/lib/python3.11/site-packages (from torch) (1.12)\n",
      "Requirement already satisfied: networkx in /Users/zhibekabdyramanova/anaconda3/lib/python3.11/site-packages (from torch) (3.1)\n",
      "Requirement already satisfied: jinja2 in /Users/zhibekabdyramanova/anaconda3/lib/python3.11/site-packages (from torch) (3.1.2)\n",
      "Requirement already satisfied: fsspec in /Users/zhibekabdyramanova/anaconda3/lib/python3.11/site-packages (from torch) (2023.10.0)\n",
      "Requirement already satisfied: numpy in /Users/zhibekabdyramanova/anaconda3/lib/python3.11/site-packages (from torchvision) (1.26.2)\n",
      "Requirement already satisfied: requests in /Users/zhibekabdyramanova/anaconda3/lib/python3.11/site-packages (from torchvision) (2.31.0)\n",
      "Requirement already satisfied: pillow!=8.3.*,>=5.3.0 in /Users/zhibekabdyramanova/anaconda3/lib/python3.11/site-packages (from torchvision) (10.0.1)\n",
      "Requirement already satisfied: MarkupSafe>=2.0 in /Users/zhibekabdyramanova/anaconda3/lib/python3.11/site-packages (from jinja2->torch) (2.1.1)\n",
      "Requirement already satisfied: charset-normalizer<4,>=2 in /Users/zhibekabdyramanova/anaconda3/lib/python3.11/site-packages (from requests->torchvision) (2.0.4)\n",
      "Requirement already satisfied: idna<4,>=2.5 in /Users/zhibekabdyramanova/anaconda3/lib/python3.11/site-packages (from requests->torchvision) (3.4)\n",
      "Requirement already satisfied: urllib3<3,>=1.21.1 in /Users/zhibekabdyramanova/anaconda3/lib/python3.11/site-packages (from requests->torchvision) (1.26.18)\n",
      "Requirement already satisfied: certifi>=2017.4.17 in /Users/zhibekabdyramanova/anaconda3/lib/python3.11/site-packages (from requests->torchvision) (2023.11.17)\n",
      "Requirement already satisfied: mpmath>=0.19 in /Users/zhibekabdyramanova/anaconda3/lib/python3.11/site-packages (from sympy->torch) (1.3.0)\n"
     ]
    }
   ],
   "source": [
    "!pip install torch torchvision torchaudio"
   ]
  },
  {
   "cell_type": "code",
   "execution_count": 68,
   "id": "97a4ef90",
   "metadata": {},
   "outputs": [],
   "source": [
    "inputs = tokenizer(texts, return_tensors=\"pt\", padding=True, truncation=True)\n",
    "# labels = torch.tensor(labels)"
   ]
  },
  {
   "cell_type": "code",
   "execution_count": 69,
   "id": "186c5171",
   "metadata": {},
   "outputs": [],
   "source": [
    "class SentimentDataset(torch.utils.data.Dataset):\n",
    "    def __init__(self, input_ids, attention_mask, labels):\n",
    "        self.input_ids = input_ids\n",
    "        self.attention_mask = attention_mask\n",
    "        self.labels = labels\n",
    "\n",
    "    def __len__(self):\n",
    "        return len(self.input_ids)\n",
    "\n",
    "    def __getitem__(self, idx):\n",
    "        return {\n",
    "            'input_ids': self.input_ids[idx],\n",
    "            'attention_mask': self.attention_mask[idx],\n",
    "            'labels': torch.tensor(self.labels[idx])\n",
    "        }\n",
    "\n",
    "# Create dataset and dataloader\n",
    "dataset = SentimentDataset(\n",
    "    input_ids=inputs['input_ids'],\n",
    "    attention_mask=inputs['attention_mask'],\n",
    "    labels=labels\n",
    ")"
   ]
  },
  {
   "cell_type": "code",
   "execution_count": 70,
   "id": "f4cb0642",
   "metadata": {},
   "outputs": [],
   "source": [
    "dataloader = DataLoader(dataset, batch_size=16, shuffle=True)"
   ]
  },
  {
   "cell_type": "markdown",
   "id": "293a87b0",
   "metadata": {},
   "source": [
    "PREPARE MODEL"
   ]
  },
  {
   "cell_type": "code",
   "execution_count": 71,
   "id": "6e1e5464",
   "metadata": {},
   "outputs": [
    {
     "name": "stderr",
     "output_type": "stream",
     "text": [
      "Some weights of DistilBertForSequenceClassification were not initialized from the model checkpoint at distilbert-base-uncased and are newly initialized: ['classifier.weight', 'pre_classifier.weight', 'pre_classifier.bias', 'classifier.bias']\n",
      "You should probably TRAIN this model on a down-stream task to be able to use it for predictions and inference.\n"
     ]
    }
   ],
   "source": [
    "model = DistilBertForSequenceClassification.from_pretrained(model_name, num_labels = len(labels))"
   ]
  },
  {
   "cell_type": "code",
   "execution_count": 72,
   "id": "95dede69",
   "metadata": {},
   "outputs": [],
   "source": [
    "optimizer = torch.optim.AdamW(model.parameters(), lr=1e-5)\n",
    "criterion = torch.nn.CrossEntropyLoss()"
   ]
  },
  {
   "cell_type": "markdown",
   "id": "cb6fcf2f",
   "metadata": {},
   "source": [
    "TRAIN"
   ]
  },
  {
   "cell_type": "code",
   "execution_count": 73,
   "id": "8ed74de7",
   "metadata": {},
   "outputs": [
    {
     "name": "stderr",
     "output_type": "stream",
     "text": [
      "Epoch 1/12, Step 27/27: 100%|█| 27/27 [01:40<00:00,  3.73s/it, Loss=6.1, Accurac\n"
     ]
    },
    {
     "name": "stdout",
     "output_type": "stream",
     "text": [
      "Epoch 1/12, Loss: 6.0769, Accuracy: 0.0023, Val Loss: 6.0554, Val Accuracy: 0.0023\n"
     ]
    },
    {
     "name": "stderr",
     "output_type": "stream",
     "text": [
      "Epoch 2/12, Step 27/27: 100%|█| 27/27 [01:46<00:00,  3.94s/it, Loss=6.04, Accura\n"
     ]
    },
    {
     "name": "stdout",
     "output_type": "stream",
     "text": [
      "Epoch 2/12, Loss: 6.0543, Accuracy: 0.0047, Val Loss: 6.0329, Val Accuracy: 0.0116\n"
     ]
    },
    {
     "name": "stderr",
     "output_type": "stream",
     "text": [
      "Epoch 3/12, Step 27/27: 100%|█| 27/27 [01:50<00:00,  4.10s/it, Loss=6.02, Accura\n"
     ]
    },
    {
     "name": "stdout",
     "output_type": "stream",
     "text": [
      "Epoch 3/12, Loss: 6.0278, Accuracy: 0.0116, Val Loss: 5.9813, Val Accuracy: 0.0349\n"
     ]
    },
    {
     "name": "stderr",
     "output_type": "stream",
     "text": [
      "Epoch 4/12, Step 27/27: 100%|█| 27/27 [01:52<00:00,  4.17s/it, Loss=5.99, Accura\n"
     ]
    },
    {
     "name": "stdout",
     "output_type": "stream",
     "text": [
      "Epoch 4/12, Loss: 5.9689, Accuracy: 0.0279, Val Loss: 5.8904, Val Accuracy: 0.0884\n"
     ]
    },
    {
     "name": "stderr",
     "output_type": "stream",
     "text": [
      "Epoch 5/12, Step 27/27: 100%|█| 27/27 [01:51<00:00,  4.12s/it, Loss=5.88, Accura\n"
     ]
    },
    {
     "name": "stdout",
     "output_type": "stream",
     "text": [
      "Epoch 5/12, Loss: 5.8719, Accuracy: 0.0744, Val Loss: 5.7772, Val Accuracy: 0.2186\n"
     ]
    },
    {
     "name": "stderr",
     "output_type": "stream",
     "text": [
      "Epoch 6/12, Step 27/27: 100%|█| 27/27 [01:41<00:00,  3.76s/it, Loss=5.81, Accura\n"
     ]
    },
    {
     "name": "stdout",
     "output_type": "stream",
     "text": [
      "Epoch 6/12, Loss: 5.7586, Accuracy: 0.2070, Val Loss: 5.6544, Val Accuracy: 0.3930\n"
     ]
    },
    {
     "name": "stderr",
     "output_type": "stream",
     "text": [
      "Epoch 7/12, Step 27/27: 100%|█| 27/27 [01:41<00:00,  3.76s/it, Loss=5.61, Accura\n"
     ]
    },
    {
     "name": "stdout",
     "output_type": "stream",
     "text": [
      "Epoch 7/12, Loss: 5.6344, Accuracy: 0.4000, Val Loss: 5.5295, Val Accuracy: 0.5953\n"
     ]
    },
    {
     "name": "stderr",
     "output_type": "stream",
     "text": [
      "Epoch 8/12, Step 27/27: 100%|█| 27/27 [01:41<00:00,  3.77s/it, Loss=5.44, Accura\n"
     ]
    },
    {
     "name": "stdout",
     "output_type": "stream",
     "text": [
      "Epoch 8/12, Loss: 5.5098, Accuracy: 0.5744, Val Loss: 5.4039, Val Accuracy: 0.7535\n"
     ]
    },
    {
     "name": "stderr",
     "output_type": "stream",
     "text": [
      "Epoch 9/12, Step 27/27: 100%|█| 27/27 [01:41<00:00,  3.76s/it, Loss=5.44, Accura\n"
     ]
    },
    {
     "name": "stdout",
     "output_type": "stream",
     "text": [
      "Epoch 9/12, Loss: 5.3857, Accuracy: 0.7256, Val Loss: 5.2781, Val Accuracy: 0.8442\n"
     ]
    },
    {
     "name": "stderr",
     "output_type": "stream",
     "text": [
      "Epoch 10/12, Step 27/27: 100%|█| 27/27 [01:44<00:00,  3.86s/it, Loss=5.26, Accur\n"
     ]
    },
    {
     "name": "stdout",
     "output_type": "stream",
     "text": [
      "Epoch 10/12, Loss: 5.2598, Accuracy: 0.8442, Val Loss: 5.1533, Val Accuracy: 0.9047\n"
     ]
    },
    {
     "name": "stderr",
     "output_type": "stream",
     "text": [
      "Epoch 11/12, Step 27/27: 100%|█| 27/27 [01:39<00:00,  3.70s/it, Loss=5.17, Accur\n"
     ]
    },
    {
     "name": "stdout",
     "output_type": "stream",
     "text": [
      "Epoch 11/12, Loss: 5.1370, Accuracy: 0.9023, Val Loss: 5.0332, Val Accuracy: 0.9326\n"
     ]
    },
    {
     "name": "stderr",
     "output_type": "stream",
     "text": [
      "Epoch 12/12, Step 27/27: 100%|█| 27/27 [01:42<00:00,  3.78s/it, Loss=4.98, Accur\n"
     ]
    },
    {
     "name": "stdout",
     "output_type": "stream",
     "text": [
      "Epoch 12/12, Loss: 5.0175, Accuracy: 0.9279, Val Loss: 4.9147, Val Accuracy: 0.9581\n"
     ]
    }
   ],
   "source": [
    "from tqdm import tqdm\n",
    "\n",
    "num_epochs = 12\n",
    "\n",
    "# Assuming you have a separate dataloader for validation data named 'val_dataloader'\n",
    "# and a model named 'model'\n",
    "\n",
    "for epoch in range(num_epochs):\n",
    "    total_loss = 0\n",
    "    total_correct = 0\n",
    "    total_samples = 0\n",
    "\n",
    "    # Training loop\n",
    "    progress_bar = tqdm(enumerate(dataloader, 1), total=len(dataloader))\n",
    "    for step, batch in progress_bar:\n",
    "        optimizer.zero_grad()\n",
    "        outputs = model(**batch)\n",
    "        loss = criterion(outputs.logits, batch['labels'])\n",
    "        loss.backward()\n",
    "        optimizer.step()\n",
    "\n",
    "        # Calculate accuracy\n",
    "        predictions = torch.argmax(outputs.logits, dim=1)\n",
    "        correct = (predictions == batch['labels']).sum().item()\n",
    "        total_correct += correct\n",
    "        total_samples += len(batch['labels'])\n",
    "\n",
    "        # Accumulate loss\n",
    "        total_loss += loss.item()\n",
    "\n",
    "        progress_bar.set_description(f'Epoch {epoch+1}/{num_epochs}, Step {step}/{len(dataloader)}')\n",
    "        progress_bar.set_postfix({'Loss': loss.item(), 'Accuracy': correct / len(batch['labels'])})\n",
    "\n",
    "    # Calculate training statistics for the epoch\n",
    "    epoch_loss = total_loss / len(dataloader)\n",
    "    epoch_accuracy = total_correct / total_samples\n",
    "\n",
    "    # Validation loop\n",
    "    model.eval()\n",
    "    val_total_loss = 0\n",
    "    val_total_correct = 0\n",
    "    val_total_samples = 0\n",
    "\n",
    "    with torch.no_grad():\n",
    "        for val_step, val_batch in enumerate(dataloader, 1):\n",
    "            val_outputs = model(**val_batch)\n",
    "            val_loss = criterion(val_outputs.logits, val_batch['labels'])\n",
    "\n",
    "            # Calculate accuracy\n",
    "            val_predictions = torch.argmax(val_outputs.logits, dim=1)\n",
    "            val_correct = (val_predictions == val_batch['labels']).sum().item()\n",
    "            val_total_correct += val_correct\n",
    "            val_total_samples += len(val_batch['labels'])\n",
    "\n",
    "            # Accumulate loss\n",
    "            val_total_loss += val_loss.item()\n",
    "\n",
    "    # Calculate validation statistics for the epoch\n",
    "    val_epoch_loss = val_total_loss / len(dataloader)\n",
    "    val_epoch_accuracy = val_total_correct / val_total_samples\n",
    "\n",
    "    # Print statistics for the epoch\n",
    "    print(f'Epoch {epoch+1}/{num_epochs}, Loss: {epoch_loss:.4f}, Accuracy: {epoch_accuracy:.4f}, Val Loss: {val_epoch_loss:.4f}, Val Accuracy: {val_epoch_accuracy:.4f}')"
   ]
  },
  {
   "cell_type": "markdown",
   "id": "3d9984d0",
   "metadata": {},
   "source": [
    "PREDICT"
   ]
  },
  {
   "cell_type": "code",
   "execution_count": 95,
   "id": "aeeafdbd",
   "metadata": {},
   "outputs": [],
   "source": [
    "def get_response(input_text):\n",
    "    # Preprocess input text\n",
    "    inputs = tokenizer(input_text, return_tensors=\"pt\")\n",
    "    \n",
    "    # Step 5: Inference\n",
    "    with torch.no_grad():\n",
    "        outputs = model(**inputs)\n",
    "        logits = outputs.logits\n",
    "    \n",
    "    # Convert logits to probabilities and get predicted label\n",
    "    probabilities = torch.softmax(logits, dim=-1)\n",
    "    predicted_label = torch.argmax(probabilities, dim=-1).item()\n",
    "    \n",
    "    # Access the collection\n",
    "    questions_collection = db['questions']\n",
    "\n",
    "      # Find all documents in the collection\n",
    "    documents = questions_collection.find()\n",
    "\n",
    "      # Initialize response variable\n",
    "    response = None\n",
    "\n",
    "      # Iterate through each document and print the structure\n",
    "    for document in documents:\n",
    "        # Access the 'questions' array\n",
    "        questions_array = document['questions']\n",
    "\n",
    "        # Retrieve corresponding answer based on predicted label\n",
    "        response = questions_array[predicted_label]['answer']\n",
    "\n",
    "        # Now you can use the 'response' variable as needed in your code\n",
    "        print(\"Response:\", response)\n",
    "\n",
    "        return response"
   ]
  },
  {
   "cell_type": "code",
   "execution_count": 96,
   "id": "38bef51c",
   "metadata": {},
   "outputs": [
    {
     "name": "stdout",
     "output_type": "stream",
     "text": [
      "Response: The specific operating hours of the hospital for inquiries and appointments may vary. It is advisable to contact the hospital during their working hours, typically from 9:00 am to 3:00 pm (Monday to Friday) and 9:00 am to 1:00 pm (Saturday).\n"
     ]
    }
   ],
   "source": [
    "text_for_pred = \"Are the hospital's operating hours for inquiries and appointments the same?\"\n",
    "predict = get_response(text_for_pred)"
   ]
  },
  {
   "cell_type": "code",
   "execution_count": null,
   "id": "a5a24d49",
   "metadata": {},
   "outputs": [],
   "source": []
  }
 ],
 "metadata": {
  "kernelspec": {
   "display_name": "myenv",
   "language": "python",
   "name": "myenv"
  },
  "language_info": {
   "codemirror_mode": {
    "name": "ipython",
    "version": 3
   },
   "file_extension": ".py",
   "mimetype": "text/x-python",
   "name": "python",
   "nbconvert_exporter": "python",
   "pygments_lexer": "ipython3",
   "version": "3.11.5"
  }
 },
 "nbformat": 4,
 "nbformat_minor": 5
}
